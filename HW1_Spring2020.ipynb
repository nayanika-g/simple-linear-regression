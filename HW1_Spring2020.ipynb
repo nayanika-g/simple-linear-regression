{
 "cells": [
  {
   "cell_type": "markdown",
   "metadata": {},
   "source": [
    "## Simple Linear Regression_Ordinary Least Squares (OLS)\n"
   ]
  },
  {
   "cell_type": "markdown",
   "metadata": {},
   "source": [
    "#### Q1 (2 points)  \n",
    "In these exercises we'll be working with simple linear regression. Simple linear regression is an approach for predicting a response using only a single feature.\n",
    "\n",
    "To create our model, we must “learn” or estimate the values of the regression coefficients $\\hat{\\beta}0$ and $\\hat{\\beta}1$. Once we’ve estimated these coefficients, we can use the model to predict responses. Here we are going to use the Least Squares technique as the cost function to estimate the coefficients.\n"
   ]
  },
  {
   "cell_type": "code",
   "execution_count": 1,
   "metadata": {},
   "outputs": [],
   "source": [
    "import numpy as np \n",
    "def estimate_coef_OLS(X, y): \n",
    "    # x: np array of input with size n\n",
    "    # y: np array of response/output with size n\n",
    "    # return(B0, B1)\n",
    "    ### YOUR CODE HERE ###\n",
    "    # calculating regression coefficients(B0,B1)\n",
    "    mean_X = np.mean(X);\n",
    "    mean_y = np.mean(y);\n",
    "    n = np.size(X);\n",
    "\n",
    "    #Calculate B1\n",
    "    sum_numer = 0 #numerator sum\n",
    "    sum_denom = 0 #denominator sum\n",
    "    for i in range(n):\n",
    "        sum_numer += (y[i]-mean_y)*(X[i]-mean_X)\n",
    "        sum_denom += (X[i]-mean_X)**2\n",
    "    \n",
    "    B1 = sum_numer/sum_denom\n",
    "    \n",
    "    #Calculate B0\n",
    "    B0 = mean_y - B1*mean_X\n",
    "   \n",
    "    return(B0, B1) \n"
   ]
  },
  {
   "cell_type": "markdown",
   "metadata": {},
   "source": [
    "#### Q2 (4 points)  \n",
    "Scikit-learn includes a number of dataset simulation functions, one of which is \"make_regression ()\". Importantly, we can create a dataset for regression that has both informative features and uninformative features, this makes for a good exercise in model selection."
   ]
  },
  {
   "cell_type": "code",
   "execution_count": 2,
   "metadata": {},
   "outputs": [],
   "source": [
    "import numpy as np \n",
    "from sklearn import linear_model, datasets\n",
    "n_samples = 100\n",
    "n_outliers = 5\n",
    "X, y, coef = datasets.make_regression(n_samples=n_samples, n_features=1,\n",
    "                                      n_informative=1, noise=10,\n",
    "                                      coef=True, random_state=2)\n",
    "# Add outlier data\n",
    "np.random.seed(1)\n",
    "X[:n_outliers] = 15 + 0.7 * np.random.normal(size=(n_outliers, 1))"
   ]
  },
  {
   "cell_type": "markdown",
   "metadata": {},
   "source": [
    " a) Plot the data (X and y)\n",
    " \n",
    " b) Use your code from the previous part to find the linear model for this dataset."
   ]
  },
  {
   "cell_type": "code",
   "execution_count": 3,
   "metadata": {},
   "outputs": [
    {
     "data": {
      "text/plain": [
       "<Figure size 640x480 with 1 Axes>"
      ]
     },
     "metadata": {},
     "output_type": "display_data"
    },
    {
     "name": "stdout",
     "output_type": "stream",
     "text": [
      "B0 = [-10.77769993]\n",
      "B1 = [7.94665171]\n"
     ]
    }
   ],
   "source": [
    "from matplotlib import pyplot as plt\n",
    "### YOUR CODE HERE ###\n",
    "# use scatter plot to represent the dataset\n",
    "plt.scatter(X,y)\n",
    "plt.axis([-4, 18, -180, 160])\n",
    "plt.xlabel('x')\n",
    "plt.ylabel('y')\n",
    "\n",
    "# Plot the linear regression model that you found from Q1\n",
    "B0, B1 = estimate_coef_OLS(X, y)\n",
    "plt.plot(X, B0 + B1*X, '-')\n",
    "plt.show()\n",
    "print(\"B0 = \"+ str(B0))\n",
    "print(\"B1 = \"+ str(B1))"
   ]
  },
  {
   "cell_type": "markdown",
   "metadata": {},
   "source": [
    "c) Try to find the outliers in this dataset, \n",
    "Then remove the outliers and find a new linear model for the remained data(without outliers)"
   ]
  },
  {
   "cell_type": "code",
   "execution_count": 4,
   "metadata": {},
   "outputs": [
    {
     "data": {
      "image/png": "[encoded data removed]",
      "text/plain": [
       "<Figure size 432x288 with 1 Axes>"
      ]
     },
     "metadata": {},
     "output_type": "display_data"
    },
    {
     "name": "stdout",
     "output_type": "stream",
     "text": [
      "B0 = [0.28012253]\n",
      "B1 = [59.71032114]\n"
     ]
    }
   ],
   "source": [
    "# Hint:you can use mean, variance or Z-score for each dimension to find outliers\n",
    "from scipy import stats\n",
    "\n",
    "#outliers appear to be the 5 data points with zscores above the x mean.\n",
    "X_zscores = stats.zscore(X)\n",
    "new_X = []\n",
    "new_y = []\n",
    "for i in range(np.size(X)):\n",
    "    if X_zscores[i] < 1:\n",
    "        new_X.append(X[i])\n",
    "        new_y.append(y[i])\n",
    "\n",
    "\"\"\"\n",
    "X_zscores = np.sort(stats.zscore(new_X))\n",
    "print(\"new_X size: \" + str(np.size(new_X)))\n",
    "print(\"new_y size: \" + str(np.size(new_y)))\n",
    "\"\"\"\n",
    "\"\"\"\n",
    "#there are 5 zscores in the y-dimension greater than 2\n",
    "y_zscores = np.absolute(stats.zscore(y))\n",
    "count = 0\n",
    "new_y = []\n",
    "for i in range(np.size(y_zscores)):\n",
    "    if(y_zscores[i] > 2):\n",
    "        count += 1\n",
    "        print(y[i])\n",
    "        print(y_zscores[i])\n",
    "    else:\n",
    "        new_y.append(y[i])\n",
    "print(count)\n",
    "print(\"y size = \" + str(np.size(y)))\n",
    "print(\"new_y size = \" + str(np.size(new_y)))\n",
    "\"\"\"\n",
    "\n",
    "#trying out (a) with new_X, new_y:\n",
    "plt.scatter(new_X,new_y)\n",
    "plt.xlabel('x')\n",
    "plt.ylabel('y')\n",
    "plt.axis([-4, 18, -180, 160])\n",
    "\n",
    "# Plot with new model excluding outliers.\n",
    "B0, B1 = estimate_coef_OLS(new_X, new_y)\n",
    "plt.plot(new_X, B0 + B1*new_X, '-')\n",
    "plt.show()\n",
    "print(\"B0 = \"+ str(B0))\n",
    "print(\"B1 = \"+ str(B1))"
   ]
  },
  {
   "cell_type": "code",
   "execution_count": 15,
   "metadata": {},
   "outputs": [
    {
     "data": {
      "text/plain": [
       "array([2.14285714, 0.25      ])"
      ]
     },
     "execution_count": 15,
     "metadata": {},
     "output_type": "execute_result"
    }
   ],
   "source": [
    "Y = [1,3,4,5,2,3,4]\n",
    "X = range(1,8)\n",
    "X = sm.add_constant(X)\n",
    "model = sm.OLS(Y,X)\n",
    "results = model.fit()\n",
    "results.params"
   ]
  },
  {
   "cell_type": "markdown",
   "metadata": {},
   "source": [
    "d) Use Statsmodel and Scikit-learn (OLS) and compare the result with part (c)."
   ]
  },
  {
   "cell_type": "code",
   "execution_count": 18,
   "metadata": {},
   "outputs": [
    {
     "name": "stdout",
     "output_type": "stream",
     "text": [
      "                            OLS Regression Results                            \n",
      "==============================================================================\n",
      "Dep. Variable:                      y   R-squared:                       0.977\n",
      "Model:                            OLS   Adj. R-squared:                  0.977\n",
      "Method:                 Least Squares   F-statistic:                     3978.\n",
      "Date:                Fri, 07 Feb 2020   Prob (F-statistic):           4.03e-78\n",
      "Time:                        12:25:11   Log-Likelihood:                -347.48\n",
      "No. Observations:                  95   AIC:                             699.0\n",
      "Df Residuals:                      93   BIC:                             704.1\n",
      "Df Model:                           1                                         \n",
      "Covariance Type:            nonrobust                                         \n",
      "==============================================================================\n",
      "                 coef    std err          t      P>|t|      [0.025      0.975]\n",
      "------------------------------------------------------------------------------\n",
      "const          0.2801      0.983      0.285      0.776      -1.671       2.231\n",
      "x1            59.7103      0.947     63.071      0.000      57.830      61.590\n",
      "==============================================================================\n",
      "Omnibus:                        0.888   Durbin-Watson:                   2.113\n",
      "Prob(Omnibus):                  0.642   Jarque-Bera (JB):                0.409\n",
      "Skew:                           0.008   Prob(JB):                        0.815\n",
      "Kurtosis:                       3.321   Cond. No.                         1.16\n",
      "==============================================================================\n",
      "\n",
      "Warnings:\n",
      "[1] Standard Errors assume that the covariance matrix of the errors is correctly specified.\n",
      "[2.14285714 0.25      ]\n"
     ]
    },
    {
     "data": {
      "text/plain": [
       "'\\nfrom sklearn import linear_model\\nreg = linear_model.LinearRegression()\\nreg.fit(new_X,new_y)\\nreg.coef_\\n'"
      ]
     },
     "execution_count": 18,
     "metadata": {},
     "output_type": "execute_result"
    }
   ],
   "source": [
    "### YOUR CODE HERE ###\n",
    "import statsmodels.api as sm\n",
    "from statsmodels.sandbox.regression.predstd import wls_prediction_std\n",
    "\n",
    "newX = sm.add_constant(new_X)\n",
    "model = sm.OLS(new_y, newX).fit()\n",
    "print(model.summary())\n",
    "#print('Parameters: ', results.params)\n",
    "print(results.params)\n",
    "\"\"\"\n",
    "from sklearn import linear_model\n",
    "reg = linear_model.LinearRegression()\n",
    "reg.fit(new_X,new_y)\n",
    "reg.coef_\n",
    "\"\"\""
   ]
  },
  {
   "cell_type": "markdown",
   "metadata": {},
   "source": [
    "#### Q3 (4 points)\n",
    "Kaggle is a competition platform for data scientists. In this class you will learn how to use the platform to practice data-science skills and \"compete\" with your classmates."
   ]
  },
  {
   "cell_type": "markdown",
   "metadata": {},
   "source": [
    "a) Reigster an account on [kaggle.com](https://www.kaggle.com) if you don't have one yet. Type in your kaggle profile name in the following block."
   ]
  },
  {
   "cell_type": "markdown",
   "metadata": {},
   "source": [
    "### What is your name on your Kaggle profile?\n",
    "gracegupta"
   ]
  },
  {
   "cell_type": "markdown",
   "metadata": {},
   "source": [
    "b) Use [this link](https://www.kaggle.com/t/58bf348e221f4a698c302663cd0e8f5e) to the competition page, and click on the top right button \"Join Competition\" to join the competition. The name of the competition is \"Chapman CS530 Predicting Red Wine Quality\". Copy the rules of the competition to the following block."
   ]
  },
  {
   "cell_type": "markdown",
   "metadata": {
    "collapsed": true
   },
   "source": [
    "### What is the rule of the competition?\n",
    "1. Download the training (train.csv) and testing set (test.csv) from the Data tab. We will talk much more about training and test sets in the course. Generally speaking, for the training set you have the information (the matrix X) and the labels (the vector y). But you do not have the labels for the test set. Here you have the wine rating for the training set but not the the test set. Therefore, your task is to fit a regression model based on the training set (where you are given the quality of the wine for each entry) and then predict as accuracy as possible on the quality of wines in the testing set, where you do not have the quality of the wine.\n",
    "\n",
    "2. This competition is designed for the \"Regression, Resampling and Regularization Module\" and it is part of the homework assignments. Submission closes on Sunday at 11:59pm.\n",
    "\n",
    "3. You are expected to submit your solutions to Kaggle and also your code on Canvas to get full credits."
   ]
  },
  {
   "cell_type": "markdown",
   "metadata": {},
   "source": [
    "c) Download the necessary datasets, read the data into a pandas dataframe and run any necessary data preprocessing techniques to allow further analysis."
   ]
  },
  {
   "cell_type": "code",
   "execution_count": 6,
   "metadata": {},
   "outputs": [],
   "source": [
    "### YOUR CODE for c) GOES HERE\n",
    "\n"
   ]
  },
  {
   "cell_type": "markdown",
   "metadata": {},
   "source": [
    "d) Choose one variable that you think might have the biggest effects on the quality of wine. Fit a single linear regression model to that variable using Statsmodel. Plot a scatter plot of the dependent variable over the independent variable and also plot the fitted line on the same plot to see how well your model fits. Also add the R<sup>2</sup> score as the title of the plot."
   ]
  },
  {
   "cell_type": "code",
   "execution_count": 7,
   "metadata": {},
   "outputs": [],
   "source": [
    "### YOUR CODE for d) GOES HERE\n",
    "\n"
   ]
  },
  {
   "cell_type": "markdown",
   "metadata": {},
   "source": [
    "e) Make predictions on the testing set using your model created in d), create a submission and submit it to kaggle. "
   ]
  },
  {
   "cell_type": "code",
   "execution_count": 8,
   "metadata": {},
   "outputs": [],
   "source": [
    "### YOUR CODE for e) GOES HERE\n",
    "\n"
   ]
  },
  {
   "cell_type": "code",
   "execution_count": 9,
   "metadata": {},
   "outputs": [],
   "source": [
    "### Report the score of your first submission on Kaggle here\n"
   ]
  },
  {
   "cell_type": "markdown",
   "metadata": {},
   "source": [
    "f) Try to fit the regression model using a different variable. Create another submission and submit it to kaggle. Discuss why that variable was better, worse, or roughly the same as the previous variable that you fit."
   ]
  },
  {
   "cell_type": "code",
   "execution_count": 10,
   "metadata": {},
   "outputs": [],
   "source": [
    "### YOUR CODE for f) GOES HERE\n",
    "\n"
   ]
  },
  {
   "cell_type": "code",
   "execution_count": 11,
   "metadata": {},
   "outputs": [],
   "source": [
    "### Report the score of your second submission on Kaggle here"
   ]
  },
  {
   "cell_type": "code",
   "execution_count": 12,
   "metadata": {},
   "outputs": [],
   "source": [
    "### Discussion Goes Here"
   ]
  },
  {
   "cell_type": "code",
   "execution_count": null,
   "metadata": {},
   "outputs": [],
   "source": []
  }
 ],
 "metadata": {
  "kernelspec": {
   "display_name": "Python 3",
   "language": "python",
   "name": "python3"
  },
  "language_info": {
   "codemirror_mode": {
    "name": "ipython",
    "version": 3
   },
   "file_extension": ".py",
   "mimetype": "text/x-python",
   "name": "python",
   "nbconvert_exporter": "python",
   "pygments_lexer": "ipython3",
   "version": "3.6.8"
  }
 },
 "nbformat": 4,
 "nbformat_minor": 2
}
