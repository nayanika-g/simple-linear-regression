{
 "cells": [
  {
   "cell_type": "markdown",
   "metadata": {},
   "source": [
    "## Simple Linear Regression_Ordinary Least Squares (OLS)\n"
   ]
  },
  {
   "cell_type": "markdown",
   "metadata": {},
   "source": [
    "#### Q1 (2 points)  \n",
    "In these exercises we'll be working with simple linear regression. Simple linear regression is an approach for predicting a response using only a single feature.\n",
    "\n",
    "To create our model, we must “learn” or estimate the values of the regression coefficients $\\hat{\\beta}0$ and $\\hat{\\beta}1$. Once we’ve estimated these coefficients, we can use the model to predict responses. Here we are going to use the Least Squares technique as the cost function to estimate the coefficients.\n"
   ]
  },
  {
   "cell_type": "code",
   "execution_count": 12,
   "metadata": {},
   "outputs": [],
   "source": [
    "import numpy as np \n",
    "def estimate_coef_OLS(X, y): \n",
    "    # x: np array of input with size n\n",
    "    # y: np array of response/output with size n\n",
    "    # return(B0, B1)\n",
    "    ### YOUR CODE HERE ###\n",
    "    # calculating regression coefficients(B0,B1)\n",
    "    mean_X = np.mean(X);\n",
    "    mean_y = np.mean(y);\n",
    "    n = np.size(X);\n",
    "\n",
    "    #Calculate B1\n",
    "    sum_numer = 0 #numerator sum\n",
    "    sum_denom = 0 #denominator sum\n",
    "    for i in range(n):\n",
    "        sum_numer += (y[i]-mean_y)*(X[i]-mean_X)\n",
    "        sum_denom += (X[i]-mean_X)**2\n",
    "    \n",
    "    B1 = sum_numer/sum_denom\n",
    "    \n",
    "    #Calculate B0\n",
    "    B0 = mean_y - B1*mean_X\n",
    "   \n",
    "    return(B0, B1) \n"
   ]
  },
  {
   "cell_type": "markdown",
   "metadata": {},
   "source": [
    "#### Q2 (4 points)  \n",
    "Scikit-learn includes a number of dataset simulation functions, one of which is \"make_regression ()\". Importantly, we can create a dataset for regression that has both informative features and uninformative features, this makes for a good exercise in model selection."
   ]
  },
  {
   "cell_type": "code",
   "execution_count": 80,
   "metadata": {},
   "outputs": [],
   "source": [
    "import numpy as np \n",
    "from sklearn import linear_model, datasets\n",
    "n_samples = 100\n",
    "n_outliers = 5\n",
    "X, y, coef = datasets.make_regression(n_samples=n_samples, n_features=1,\n",
    "                                      n_informative=1, noise=10,\n",
    "                                      coef=True, random_state=2)\n",
    "# Add outlier data\n",
    "np.random.seed(1)\n",
    "X[:n_outliers] = 15 + 0.7 * np.random.normal(size=(n_outliers, 1))"
   ]
  },
  {
   "cell_type": "markdown",
   "metadata": {},
   "source": [
    " a) Plot the data (X and y)\n",
    " \n",
    " b) Use your code from the previous part to find the linear model for this dataset."
   ]
  },
  {
   "cell_type": "code",
   "execution_count": 121,
   "metadata": {},
   "outputs": [
    {
     "data": {
      "image/png": "[encoded data removed]",
      "text/plain": [
       "<Figure size 432x288 with 1 Axes>"
      ]
     },
     "metadata": {},
     "output_type": "display_data"
    },
    {
     "name": "stdout",
     "output_type": "stream",
     "text": [
      "B0 = [-10.77769993]\n",
      "B1 = [7.94665171]\n"
     ]
    }
   ],
   "source": [
    "from matplotlib import pyplot as plt\n",
    "### YOUR CODE HERE ###\n",
    "# use scatter plot to represent the dataset\n",
    "plt.scatter(X,y)\n",
    "plt.axis([-4, 18, -180, 160])\n",
    "plt.xlabel('x')\n",
    "plt.ylabel('y')\n",
    "\n",
    "# Plot the linear regression model that you found from Q1\n",
    "B0, B1 = estimate_coef_OLS(X, y)\n",
    "plt.plot(X, B0 + B1*X, '-')\n",
    "plt.show()\n",
    "print(\"B0 = \"+ str(B0))\n",
    "print(\"B1 = \"+ str(B1))"
   ]
  },
  {
   "cell_type": "markdown",
   "metadata": {},
   "source": [
    "c) Try to find the outliers in this dataset, \n",
    "Then remove the outliers and find a new linear model for the remained data(without outliers)"
   ]
  },
  {
   "cell_type": "code",
   "execution_count": 120,
   "metadata": {},
   "outputs": [
    {
     "data": {
      "image/png": "[encoded data removed]",
      "text/plain": [
       "<Figure size 432x288 with 1 Axes>"
      ]
     },
     "metadata": {},
     "output_type": "display_data"
    },
    {
     "name": "stdout",
     "output_type": "stream",
     "text": [
      "B0 = [0.28012253]\n",
      "B1 = [59.71032114]\n"
     ]
    }
   ],
   "source": [
    "# Hint:you can use mean, variance or Z-score for each dimension to find outliers\n",
    "from scipy import stats\n",
    "\n",
    "#outliers appear to be the 5 data points with zscores above the x mean.\n",
    "X_zscores = stats.zscore(X)\n",
    "new_X = []\n",
    "new_y = []\n",
    "for i in range(np.size(X)):\n",
    "    if X_zscores[i] < 1:\n",
    "        new_X.append(X[i])\n",
    "        new_y.append(y[i])\n",
    "\n",
    "\"\"\"\n",
    "X_zscores = np.sort(stats.zscore(new_X))\n",
    "print(\"new_X size: \" + str(np.size(new_X)))\n",
    "print(\"new_y size: \" + str(np.size(new_y)))\n",
    "\"\"\"\n",
    "\"\"\"\n",
    "#there are 5 zscores in the y-dimension greater than 2\n",
    "y_zscores = np.absolute(stats.zscore(y))\n",
    "count = 0\n",
    "new_y = []\n",
    "for i in range(np.size(y_zscores)):\n",
    "    if(y_zscores[i] > 2):\n",
    "        count += 1\n",
    "        print(y[i])\n",
    "        print(y_zscores[i])\n",
    "    else:\n",
    "        new_y.append(y[i])\n",
    "print(count)\n",
    "print(\"y size = \" + str(np.size(y)))\n",
    "print(\"new_y size = \" + str(np.size(new_y)))\n",
    "\"\"\"\n",
    "\n",
    "#trying out (a) with new_X, new_y:\n",
    "plt.scatter(new_X,new_y)\n",
    "plt.xlabel('x')\n",
    "plt.ylabel('y')\n",
    "plt.axis([-4, 18, -180, 160])\n",
    "\n",
    "# Plot with new model excluding outliers.\n",
    "B0, B1 = estimate_coef_OLS(new_X, new_y)\n",
    "plt.plot(new_X, B0 + B1*new_X, '-')\n",
    "plt.show()\n",
    "print(\"B0 = \"+ str(B0))\n",
    "print(\"B1 = \"+ str(B1))"
   ]
  },
  {
   "cell_type": "markdown",
   "metadata": {},
   "source": [
    "d) Use Statsmodel and Scikit-learn (OLS) and compare the result with part (c)."
   ]
  },
  {
   "cell_type": "code",
   "execution_count": 129,
   "metadata": {},
   "outputs": [
    {
     "name": "stdout",
     "output_type": "stream",
     "text": [
      "Parameters:  [59.67237433]\n"
     ]
    },
    {
     "data": {
      "text/plain": [
       "array([59.71032114])"
      ]
     },
     "execution_count": 129,
     "metadata": {},
     "output_type": "execute_result"
    }
   ],
   "source": [
    "### YOUR CODE HERE ###\n",
    "import statsmodels.api as sm\n",
    "from statsmodels.sandbox.regression.predstd import wls_prediction_std\n",
    "\n",
    "model = sm.OLS(new_y, new_X)\n",
    "results = model.fit()\n",
    "print('Parameters: ', results.params)\n",
    "\n",
    "from sklearn import linear_model\n",
    "reg = linear_model.LinearRegression()\n",
    "reg.fit(new_X,new_y)\n",
    "reg.coef_"
   ]
  },
  {
   "cell_type": "markdown",
   "metadata": {},
   "source": [
    "#### Q3 (4 points)\n",
    "Kaggle is a competition platform for data scientists. In this class you will learn how to use the platform to practice data-science skills and \"compete\" with your classmates."
   ]
  },
  {
   "cell_type": "markdown",
   "metadata": {},
   "source": [
    "a) Reigster an account on [kaggle.com](https://www.kaggle.com) if you don't have one yet. Type in your kaggle profile name in the following block."
   ]
  },
  {
   "cell_type": "code",
   "execution_count": 2,
   "metadata": {},
   "outputs": [],
   "source": [
    "### What is your name on your Kaggle profile?\n"
   ]
  },
  {
   "cell_type": "markdown",
   "metadata": {},
   "source": [
    "b) Use [this link](https://www.kaggle.com/t/58bf348e221f4a698c302663cd0e8f5e) to the competition page, and click on the top right button \"Join Competition\" to join the competition. The name of the competition is \"Chapman CS530 Predicting Red Wine Quality\". Copy the rules of the competition to the following block."
   ]
  },
  {
   "cell_type": "code",
   "execution_count": 3,
   "metadata": {
    "collapsed": true
   },
   "outputs": [],
   "source": [
    "### What is the rule of the competition?\n"
   ]
  },
  {
   "cell_type": "markdown",
   "metadata": {},
   "source": [
    "c) Download the necessary datasets, read the data into a pandas dataframe and run any necessary data preprocessing techniques to allow further analysis."
   ]
  },
  {
   "cell_type": "code",
   "execution_count": 4,
   "metadata": {
    "collapsed": true
   },
   "outputs": [],
   "source": [
    "### YOUR CODE for c) GOES HERE\n",
    "\n"
   ]
  },
  {
   "cell_type": "markdown",
   "metadata": {},
   "source": [
    "d) Choose one variable that you think might have the biggest effects on the quality of wine. Fit a single linear regression model to that variable using Statsmodel. Plot a scatter plot of the dependent variable over the independent variable and also plot the fitted line on the same plot to see how well your model fits. Also add the R<sup>2</sup> score as the title of the plot."
   ]
  },
  {
   "cell_type": "code",
   "execution_count": null,
   "metadata": {
    "collapsed": true
   },
   "outputs": [],
   "source": [
    "### YOUR CODE for d) GOES HERE\n",
    "\n"
   ]
  },
  {
   "cell_type": "markdown",
   "metadata": {},
   "source": [
    "e) Make predictions on the testing set using your model created in d), create a submission and submit it to kaggle. "
   ]
  },
  {
   "cell_type": "code",
   "execution_count": null,
   "metadata": {},
   "outputs": [],
   "source": [
    "### YOUR CODE for e) GOES HERE\n",
    "\n"
   ]
  },
  {
   "cell_type": "code",
   "execution_count": 5,
   "metadata": {},
   "outputs": [],
   "source": [
    "### Report the score of your first submission on Kaggle here\n"
   ]
  },
  {
   "cell_type": "markdown",
   "metadata": {},
   "source": [
    "f) Try to fit the regression model using a different variable. Create another submission and submit it to kaggle. Discuss why that variable was better, worse, or roughly the same as the previous variable that you fit."
   ]
  },
  {
   "cell_type": "code",
   "execution_count": null,
   "metadata": {},
   "outputs": [],
   "source": [
    "### YOUR CODE for f) GOES HERE\n",
    "\n"
   ]
  },
  {
   "cell_type": "code",
   "execution_count": null,
   "metadata": {},
   "outputs": [],
   "source": [
    "### Report the score of your second submission on Kaggle here"
   ]
  },
  {
   "cell_type": "code",
   "execution_count": 6,
   "metadata": {},
   "outputs": [],
   "source": [
    "### Discussion Goes Here"
   ]
  },
  {
   "cell_type": "code",
   "execution_count": null,
   "metadata": {},
   "outputs": [],
   "source": []
  }
 ],
 "metadata": {
  "kernelspec": {
   "display_name": "Python 3",
   "language": "python",
   "name": "python3"
  },
  "language_info": {
   "codemirror_mode": {
    "name": "ipython",
    "version": 3
   },
   "file_extension": ".py",
   "mimetype": "text/x-python",
   "name": "python",
   "nbconvert_exporter": "python",
   "pygments_lexer": "ipython3",
   "version": "3.6.8"
  }
 },
 "nbformat": 4,
 "nbformat_minor": 2
}
