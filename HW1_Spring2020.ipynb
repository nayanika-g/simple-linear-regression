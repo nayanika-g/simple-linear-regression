{
 "cells": [
  {
   "cell_type": "markdown",
   "metadata": {},
   "source": [
    "## Simple Linear Regression_Ordinary Least Squares (OLS)\n"
   ]
  },
  {
   "cell_type": "markdown",
   "metadata": {},
   "source": [
    "#### Q1 (2 points)  \n",
    "In these exercises we'll be working with simple linear regression. Simple linear regression is an approach for predicting a response using only a single feature.\n",
    "\n",
    "To create our model, we must “learn” or estimate the values of the regression coefficients $\\hat{\\beta}0$ and $\\hat{\\beta}1$. Once we’ve estimated these coefficients, we can use the model to predict responses. Here we are going to use the Least Squares technique as the cost function to estimate the coefficients.\n"
   ]
  },
  {
   "cell_type": "code",
   "execution_count": 1,
   "metadata": {},
   "outputs": [],
   "source": [
    "import numpy as np \n",
    "def estimate_coef_OLS(X, y): \n",
    "    # x: np array of input with size n\n",
    "    # y: np array of response/output with size n\n",
    "    # return(B0, B1)\n",
    "    ### YOUR CODE HERE ###\n",
    "    # calculating regression coefficients(B0,B1)\n",
    "    mean_X = np.mean(X);\n",
    "    mean_y = np.mean(y);\n",
    "    n = np.size(X);\n",
    "\n",
    "    #Calculate B1\n",
    "    sum_numer = 0 #numerator sum\n",
    "    sum_denom = 0 #denominator sum\n",
    "    for i in range(n):\n",
    "        sum_numer += (y[i]-mean_y)*(X[i]-mean_X)\n",
    "        sum_denom += (X[i]-mean_X)**2\n",
    "    \n",
    "    B1 = sum_numer/sum_denom\n",
    "    \n",
    "    #Calculate B0\n",
    "    B0 = mean_y - B1*mean_X\n",
    "   \n",
    "    return(B0, B1) \n"
   ]
  },
  {
   "cell_type": "markdown",
   "metadata": {},
   "source": [
    "#### Q2 (4 points)  \n",
    "Scikit-learn includes a number of dataset simulation functions, one of which is \"make_regression ()\". Importantly, we can create a dataset for regression that has both informative features and uninformative features, this makes for a good exercise in model selection."
   ]
  },
  {
   "cell_type": "code",
   "execution_count": 2,
   "metadata": {},
   "outputs": [],
   "source": [
    "import numpy as np \n",
    "from sklearn import linear_model, datasets\n",
    "n_samples = 100\n",
    "n_outliers = 5\n",
    "X, y, coef = datasets.make_regression(n_samples=n_samples, n_features=1,\n",
    "                                      n_informative=1, noise=10,\n",
    "                                      coef=True, random_state=2)\n",
    "# Add outlier data\n",
    "np.random.seed(1)\n",
    "X[:n_outliers] = 15 + 0.7 * np.random.normal(size=(n_outliers, 1))"
   ]
  },
  {
   "cell_type": "markdown",
   "metadata": {},
   "source": [
    " a) Plot the data (X and y)\n",
    " \n",
    " b) Use your code from the previous part to find the linear model for this dataset."
   ]
  },
  {
   "cell_type": "code",
   "execution_count": 4,
   "metadata": {},
   "outputs": [
    {
     "data": {
      "image/png": "[encoded data removed]",
      "text/plain": [
       "<Figure size 432x288 with 1 Axes>"
      ]
     },
     "metadata": {},
     "output_type": "display_data"
    },
    {
     "name": "stdout",
     "output_type": "stream",
     "text": [
      "B0 = [-10.77769993]\n",
      "B1 = [7.94665171]\n"
     ]
    }
   ],
   "source": [
    "from matplotlib import pyplot as plt\n",
    "### YOUR CODE HERE ###\n",
    "# use scatter plot to represent the dataset\n",
    "plt.scatter(X,y)\n",
    "plt.axis([-4, 18, -180, 160])\n",
    "plt.xlabel('x')\n",
    "plt.ylabel('y')\n",
    "\n",
    "# Plot the linear regression model that you found from Q1\n",
    "B0, B1 = estimate_coef_OLS(X, y)\n",
    "plt.plot(X, B0 + B1*X, '-')\n",
    "plt.show()\n",
    "print(\"B0 = \"+ str(B0))\n",
    "print(\"B1 = \"+ str(B1))"
   ]
  },
  {
   "cell_type": "markdown",
   "metadata": {},
   "source": [
    "c) Try to find the outliers in this dataset, \n",
    "Then remove the outliers and find a new linear model for the remained data(without outliers)"
   ]
  },
  {
   "cell_type": "code",
   "execution_count": 6,
   "metadata": {},
   "outputs": [
    {
     "data": {
      "image/png": "[encoded data removed]",
      "text/plain": [
       "<Figure size 432x288 with 1 Axes>"
      ]
     },
     "metadata": {},
     "output_type": "display_data"
    },
    {
     "name": "stdout",
     "output_type": "stream",
     "text": [
      "B0 = [0.28012253]\n",
      "B1 = [59.71032114]\n"
     ]
    }
   ],
   "source": [
    "# Hint:you can use mean, variance or Z-score for each dimension to find outliers\n",
    "from scipy import stats\n",
    "\n",
    "#outliers appear to be the 5 data points with zscores above the x mean.\n",
    "X_zscores = stats.zscore(X)\n",
    "new_X = []\n",
    "new_y = []\n",
    "for i in range(np.size(X)):\n",
    "    if X_zscores[i] < 1:\n",
    "        new_X.append(X[i])\n",
    "        new_y.append(y[i])\n",
    "\n",
    "#trying out (a) with new_X, new_y:\n",
    "plt.scatter(new_X,new_y)\n",
    "plt.xlabel('x')\n",
    "plt.ylabel('y')\n",
    "plt.axis([-4, 18, -180, 160])\n",
    "\n",
    "# Plot with new model excluding outliers.\n",
    "B0, B1 = estimate_coef_OLS(new_X, new_y)\n",
    "plt.plot(new_X, B0 + B1*new_X, '-')\n",
    "plt.show()\n",
    "print(\"B0 = \"+ str(B0))\n",
    "print(\"B1 = \"+ str(B1))"
   ]
  },
  {
   "cell_type": "markdown",
   "metadata": {},
   "source": [
    "d) Use Statsmodel and Scikit-learn (OLS) and compare the result with part (c)."
   ]
  },
  {
   "cell_type": "code",
   "execution_count": 13,
   "metadata": {},
   "outputs": [
    {
     "name": "stdout",
     "output_type": "stream",
     "text": [
      "                            OLS Regression Results                            \n",
      "==============================================================================\n",
      "Dep. Variable:                      y   R-squared:                       0.977\n",
      "Model:                            OLS   Adj. R-squared:                  0.977\n",
      "Method:                 Least Squares   F-statistic:                     3978.\n",
      "Date:                Fri, 07 Feb 2020   Prob (F-statistic):           4.03e-78\n",
      "Time:                        19:06:13   Log-Likelihood:                -347.48\n",
      "No. Observations:                  95   AIC:                             699.0\n",
      "Df Residuals:                      93   BIC:                             704.1\n",
      "Df Model:                           1                                         \n",
      "Covariance Type:            nonrobust                                         \n",
      "==============================================================================\n",
      "                 coef    std err          t      P>|t|      [0.025      0.975]\n",
      "------------------------------------------------------------------------------\n",
      "const          0.2801      0.983      0.285      0.776      -1.671       2.231\n",
      "x1            59.7103      0.947     63.071      0.000      57.830      61.590\n",
      "==============================================================================\n",
      "Omnibus:                        0.888   Durbin-Watson:                   2.113\n",
      "Prob(Omnibus):                  0.642   Jarque-Bera (JB):                0.409\n",
      "Skew:                           0.008   Prob(JB):                        0.815\n",
      "Kurtosis:                       3.321   Cond. No.                         1.16\n",
      "==============================================================================\n",
      "\n",
      "Warnings:\n",
      "[1] Standard Errors assume that the covariance matrix of the errors is correctly specified.\n",
      "[59.71032114]\n",
      "0.28012252631957146\n"
     ]
    }
   ],
   "source": [
    "### YOUR CODE HERE ###\n",
    "import statsmodels.api as sm\n",
    "from statsmodels.sandbox.regression.predstd import wls_prediction_std\n",
    "\n",
    "#statsmodel\n",
    "newX = sm.add_constant(new_X)\n",
    "model = sm.OLS(new_y, newX).fit()\n",
    "print(model.summary())\n",
    "\n",
    "#scikit-learn\n",
    "from sklearn import linear_model\n",
    "reg = linear_model.LinearRegression()\n",
    "reg.fit(new_X,new_y)\n",
    "print(reg.coef_)\n",
    "print(reg.intercept_)"
   ]
  },
  {
   "cell_type": "markdown",
   "metadata": {},
   "source": [
    "#### Q3 (4 points)\n",
    "Kaggle is a competition platform for data scientists. In this class you will learn how to use the platform to practice data-science skills and \"compete\" with your classmates."
   ]
  },
  {
   "cell_type": "markdown",
   "metadata": {},
   "source": [
    "a) Reigster an account on [kaggle.com](https://www.kaggle.com) if you don't have one yet. Type in your kaggle profile name in the following block."
   ]
  },
  {
   "cell_type": "markdown",
   "metadata": {},
   "source": [
    "### What is your name on your Kaggle profile?\n",
    "gracegupta"
   ]
  },
  {
   "cell_type": "markdown",
   "metadata": {},
   "source": [
    "b) Use [this link](https://www.kaggle.com/t/58bf348e221f4a698c302663cd0e8f5e) to the competition page, and click on the top right button \"Join Competition\" to join the competition. The name of the competition is \"Chapman CS530 Predicting Red Wine Quality\". Copy the rules of the competition to the following block."
   ]
  },
  {
   "cell_type": "markdown",
   "metadata": {
    "collapsed": true
   },
   "source": [
    "### What is the rule of the competition?\n",
    "1. Download the training (train.csv) and testing set (test.csv) from the Data tab. We will talk much more about training and test sets in the course. Generally speaking, for the training set you have the information (the matrix X) and the labels (the vector y). But you do not have the labels for the test set. Here you have the wine rating for the training set but not the the test set. Therefore, your task is to fit a regression model based on the training set (where you are given the quality of the wine for each entry) and then predict as accuracy as possible on the quality of wines in the testing set, where you do not have the quality of the wine.\n",
    "\n",
    "2. This competition is designed for the \"Regression, Resampling and Regularization Module\" and it is part of the homework assignments. Submission closes on Sunday at 11:59pm.\n",
    "\n",
    "3. You are expected to submit your solutions to Kaggle and also your code on Canvas to get full credits."
   ]
  },
  {
   "cell_type": "markdown",
   "metadata": {},
   "source": [
    "c) Download the necessary datasets, read the data into a pandas dataframe and run any necessary data preprocessing techniques to allow further analysis."
   ]
  },
  {
   "cell_type": "code",
   "execution_count": 14,
   "metadata": {
    "scrolled": true
   },
   "outputs": [
    {
     "data": {
      "text/plain": [
       "Id                       0\n",
       "fixed acidity           10\n",
       "volatile acidity         0\n",
       "citric acid              0\n",
       "residual sugar           0\n",
       "chlorides               10\n",
       "free sulfur dioxide      0\n",
       "total sulfur dioxide    10\n",
       "density                  0\n",
       "pH                       0\n",
       "sulphates                0\n",
       "alcohol                  0\n",
       "quality                  0\n",
       "dtype: int64"
      ]
     },
     "execution_count": 14,
     "metadata": {},
     "output_type": "execute_result"
    }
   ],
   "source": [
    "### YOUR CODE for c) GOES HERE\n",
    "import numpy as np # linear algebra\n",
    "import pandas as pd # data processing, CSV file I/O (e.g. pd.read_csv)\n",
    "\n",
    "#read and show training data\n",
    "filepath = '/Users/gracegupta/Downloads/train.csv'\n",
    "train = pd.read_csv(filepath)\n",
    "train.head()\n",
    "df = pd.DataFrame(train)\n",
    "\n",
    "#Check number of missing values per column\n",
    "df.isnull().sum()"
   ]
  },
  {
   "cell_type": "code",
   "execution_count": 15,
   "metadata": {},
   "outputs": [
    {
     "data": {
      "text/html": [
       "<div>\n",
       "<style scoped>\n",
       "    .dataframe tbody tr th:only-of-type {\n",
       "        vertical-align: middle;\n",
       "    }\n",
       "\n",
       "    .dataframe tbody tr th {\n",
       "        vertical-align: top;\n",
       "    }\n",
       "\n",
       "    .dataframe thead th {\n",
       "        text-align: right;\n",
       "    }\n",
       "</style>\n",
       "<table border=\"1\" class=\"dataframe\">\n",
       "  <thead>\n",
       "    <tr style=\"text-align: right;\">\n",
       "      <th></th>\n",
       "      <th>Id</th>\n",
       "      <th>fixed acidity</th>\n",
       "      <th>volatile acidity</th>\n",
       "      <th>citric acid</th>\n",
       "      <th>residual sugar</th>\n",
       "      <th>chlorides</th>\n",
       "      <th>free sulfur dioxide</th>\n",
       "      <th>total sulfur dioxide</th>\n",
       "      <th>density</th>\n",
       "      <th>pH</th>\n",
       "      <th>sulphates</th>\n",
       "      <th>alcohol</th>\n",
       "      <th>quality</th>\n",
       "    </tr>\n",
       "  </thead>\n",
       "  <tbody>\n",
       "    <tr>\n",
       "      <th>count</th>\n",
       "      <td>1119.000000</td>\n",
       "      <td>1109.000000</td>\n",
       "      <td>1119.000000</td>\n",
       "      <td>1119.000000</td>\n",
       "      <td>1119.000000</td>\n",
       "      <td>1109.000000</td>\n",
       "      <td>1119.000000</td>\n",
       "      <td>1109.000000</td>\n",
       "      <td>1119.000000</td>\n",
       "      <td>1119.000000</td>\n",
       "      <td>1119.000000</td>\n",
       "      <td>1119.000000</td>\n",
       "      <td>1119.000000</td>\n",
       "    </tr>\n",
       "    <tr>\n",
       "      <th>mean</th>\n",
       "      <td>559.000000</td>\n",
       "      <td>8.676736</td>\n",
       "      <td>0.550800</td>\n",
       "      <td>0.281832</td>\n",
       "      <td>2.619884</td>\n",
       "      <td>0.091142</td>\n",
       "      <td>16.413315</td>\n",
       "      <td>48.344454</td>\n",
       "      <td>1.036889</td>\n",
       "      <td>3.444227</td>\n",
       "      <td>0.681769</td>\n",
       "      <td>10.798198</td>\n",
       "      <td>5.852547</td>\n",
       "    </tr>\n",
       "    <tr>\n",
       "      <th>std</th>\n",
       "      <td>323.171781</td>\n",
       "      <td>5.670496</td>\n",
       "      <td>0.343354</td>\n",
       "      <td>0.291847</td>\n",
       "      <td>1.801195</td>\n",
       "      <td>0.068930</td>\n",
       "      <td>14.302557</td>\n",
       "      <td>48.281911</td>\n",
       "      <td>0.598978</td>\n",
       "      <td>1.971567</td>\n",
       "      <td>0.403720</td>\n",
       "      <td>5.745771</td>\n",
       "      <td>3.342237</td>\n",
       "    </tr>\n",
       "    <tr>\n",
       "      <th>min</th>\n",
       "      <td>0.000000</td>\n",
       "      <td>4.600000</td>\n",
       "      <td>0.120000</td>\n",
       "      <td>0.000000</td>\n",
       "      <td>0.900000</td>\n",
       "      <td>0.012000</td>\n",
       "      <td>1.000000</td>\n",
       "      <td>6.000000</td>\n",
       "      <td>0.990070</td>\n",
       "      <td>2.740000</td>\n",
       "      <td>0.330000</td>\n",
       "      <td>8.400000</td>\n",
       "      <td>3.000000</td>\n",
       "    </tr>\n",
       "    <tr>\n",
       "      <th>25%</th>\n",
       "      <td>279.500000</td>\n",
       "      <td>7.100000</td>\n",
       "      <td>0.400000</td>\n",
       "      <td>0.100000</td>\n",
       "      <td>1.900000</td>\n",
       "      <td>0.070000</td>\n",
       "      <td>7.000000</td>\n",
       "      <td>22.000000</td>\n",
       "      <td>0.995695</td>\n",
       "      <td>3.210000</td>\n",
       "      <td>0.550000</td>\n",
       "      <td>9.500000</td>\n",
       "      <td>5.000000</td>\n",
       "    </tr>\n",
       "    <tr>\n",
       "      <th>50%</th>\n",
       "      <td>559.000000</td>\n",
       "      <td>7.900000</td>\n",
       "      <td>0.520000</td>\n",
       "      <td>0.260000</td>\n",
       "      <td>2.200000</td>\n",
       "      <td>0.080000</td>\n",
       "      <td>14.000000</td>\n",
       "      <td>38.000000</td>\n",
       "      <td>0.996800</td>\n",
       "      <td>3.310000</td>\n",
       "      <td>0.620000</td>\n",
       "      <td>10.200000</td>\n",
       "      <td>6.000000</td>\n",
       "    </tr>\n",
       "    <tr>\n",
       "      <th>75%</th>\n",
       "      <td>838.500000</td>\n",
       "      <td>9.300000</td>\n",
       "      <td>0.640000</td>\n",
       "      <td>0.435000</td>\n",
       "      <td>2.600000</td>\n",
       "      <td>0.092000</td>\n",
       "      <td>22.000000</td>\n",
       "      <td>62.000000</td>\n",
       "      <td>0.997900</td>\n",
       "      <td>3.410000</td>\n",
       "      <td>0.730000</td>\n",
       "      <td>11.100000</td>\n",
       "      <td>6.000000</td>\n",
       "    </tr>\n",
       "    <tr>\n",
       "      <th>max</th>\n",
       "      <td>1118.000000</td>\n",
       "      <td>126.000000</td>\n",
       "      <td>5.800000</td>\n",
       "      <td>6.600000</td>\n",
       "      <td>26.000000</td>\n",
       "      <td>1.040000</td>\n",
       "      <td>300.000000</td>\n",
       "      <td>1050.000000</td>\n",
       "      <td>10.010000</td>\n",
       "      <td>33.600000</td>\n",
       "      <td>7.200000</td>\n",
       "      <td>98.000000</td>\n",
       "      <td>60.000000</td>\n",
       "    </tr>\n",
       "  </tbody>\n",
       "</table>\n",
       "</div>"
      ],
      "text/plain": [
       "                Id  fixed acidity  volatile acidity  citric acid  \\\n",
       "count  1119.000000    1109.000000       1119.000000  1119.000000   \n",
       "mean    559.000000       8.676736          0.550800     0.281832   \n",
       "std     323.171781       5.670496          0.343354     0.291847   \n",
       "min       0.000000       4.600000          0.120000     0.000000   \n",
       "25%     279.500000       7.100000          0.400000     0.100000   \n",
       "50%     559.000000       7.900000          0.520000     0.260000   \n",
       "75%     838.500000       9.300000          0.640000     0.435000   \n",
       "max    1118.000000     126.000000          5.800000     6.600000   \n",
       "\n",
       "       residual sugar    chlorides  free sulfur dioxide  total sulfur dioxide  \\\n",
       "count     1119.000000  1109.000000          1119.000000           1109.000000   \n",
       "mean         2.619884     0.091142            16.413315             48.344454   \n",
       "std          1.801195     0.068930            14.302557             48.281911   \n",
       "min          0.900000     0.012000             1.000000              6.000000   \n",
       "25%          1.900000     0.070000             7.000000             22.000000   \n",
       "50%          2.200000     0.080000            14.000000             38.000000   \n",
       "75%          2.600000     0.092000            22.000000             62.000000   \n",
       "max         26.000000     1.040000           300.000000           1050.000000   \n",
       "\n",
       "           density           pH    sulphates      alcohol      quality  \n",
       "count  1119.000000  1119.000000  1119.000000  1119.000000  1119.000000  \n",
       "mean      1.036889     3.444227     0.681769    10.798198     5.852547  \n",
       "std       0.598978     1.971567     0.403720     5.745771     3.342237  \n",
       "min       0.990070     2.740000     0.330000     8.400000     3.000000  \n",
       "25%       0.995695     3.210000     0.550000     9.500000     5.000000  \n",
       "50%       0.996800     3.310000     0.620000    10.200000     6.000000  \n",
       "75%       0.997900     3.410000     0.730000    11.100000     6.000000  \n",
       "max      10.010000    33.600000     7.200000    98.000000    60.000000  "
      ]
     },
     "execution_count": 15,
     "metadata": {},
     "output_type": "execute_result"
    }
   ],
   "source": [
    "df.describe()"
   ]
  },
  {
   "cell_type": "code",
   "execution_count": 16,
   "metadata": {},
   "outputs": [
    {
     "data": {
      "text/html": [
       "<div>\n",
       "<style scoped>\n",
       "    .dataframe tbody tr th:only-of-type {\n",
       "        vertical-align: middle;\n",
       "    }\n",
       "\n",
       "    .dataframe tbody tr th {\n",
       "        vertical-align: top;\n",
       "    }\n",
       "\n",
       "    .dataframe thead th {\n",
       "        text-align: right;\n",
       "    }\n",
       "</style>\n",
       "<table border=\"1\" class=\"dataframe\">\n",
       "  <thead>\n",
       "    <tr style=\"text-align: right;\">\n",
       "      <th></th>\n",
       "      <th>Id</th>\n",
       "      <th>fixed acidity</th>\n",
       "      <th>volatile acidity</th>\n",
       "      <th>citric acid</th>\n",
       "      <th>residual sugar</th>\n",
       "      <th>chlorides</th>\n",
       "      <th>free sulfur dioxide</th>\n",
       "      <th>total sulfur dioxide</th>\n",
       "      <th>density</th>\n",
       "      <th>pH</th>\n",
       "      <th>sulphates</th>\n",
       "      <th>alcohol</th>\n",
       "      <th>quality</th>\n",
       "    </tr>\n",
       "  </thead>\n",
       "  <tbody>\n",
       "    <tr>\n",
       "      <th>count</th>\n",
       "      <td>1114.000000</td>\n",
       "      <td>1104.000000</td>\n",
       "      <td>1114.000000</td>\n",
       "      <td>1114.000000</td>\n",
       "      <td>1114.000000</td>\n",
       "      <td>1104.000000</td>\n",
       "      <td>1114.000000</td>\n",
       "      <td>1104.000000</td>\n",
       "      <td>1114.000000</td>\n",
       "      <td>1114.000000</td>\n",
       "      <td>1114.000000</td>\n",
       "      <td>1114.000000</td>\n",
       "      <td>1114.000000</td>\n",
       "    </tr>\n",
       "    <tr>\n",
       "      <th>mean</th>\n",
       "      <td>558.662478</td>\n",
       "      <td>8.327446</td>\n",
       "      <td>0.531548</td>\n",
       "      <td>0.270081</td>\n",
       "      <td>2.535592</td>\n",
       "      <td>0.087760</td>\n",
       "      <td>15.894524</td>\n",
       "      <td>46.425725</td>\n",
       "      <td>0.996778</td>\n",
       "      <td>3.312648</td>\n",
       "      <td>0.657451</td>\n",
       "      <td>10.420272</td>\n",
       "      <td>5.636445</td>\n",
       "    </tr>\n",
       "    <tr>\n",
       "      <th>std</th>\n",
       "      <td>323.780089</td>\n",
       "      <td>1.749430</td>\n",
       "      <td>0.180077</td>\n",
       "      <td>0.194668</td>\n",
       "      <td>1.281758</td>\n",
       "      <td>0.046592</td>\n",
       "      <td>10.336667</td>\n",
       "      <td>33.139474</td>\n",
       "      <td>0.001901</td>\n",
       "      <td>0.156329</td>\n",
       "      <td>0.166508</td>\n",
       "      <td>1.072694</td>\n",
       "      <td>0.807512</td>\n",
       "    </tr>\n",
       "    <tr>\n",
       "      <th>min</th>\n",
       "      <td>0.000000</td>\n",
       "      <td>4.600000</td>\n",
       "      <td>0.120000</td>\n",
       "      <td>0.000000</td>\n",
       "      <td>0.900000</td>\n",
       "      <td>0.012000</td>\n",
       "      <td>1.000000</td>\n",
       "      <td>6.000000</td>\n",
       "      <td>0.990070</td>\n",
       "      <td>2.740000</td>\n",
       "      <td>0.330000</td>\n",
       "      <td>8.400000</td>\n",
       "      <td>3.000000</td>\n",
       "    </tr>\n",
       "    <tr>\n",
       "      <th>25%</th>\n",
       "      <td>278.250000</td>\n",
       "      <td>7.100000</td>\n",
       "      <td>0.400000</td>\n",
       "      <td>0.092500</td>\n",
       "      <td>1.900000</td>\n",
       "      <td>0.070000</td>\n",
       "      <td>7.000000</td>\n",
       "      <td>22.000000</td>\n",
       "      <td>0.995683</td>\n",
       "      <td>3.210000</td>\n",
       "      <td>0.550000</td>\n",
       "      <td>9.500000</td>\n",
       "      <td>5.000000</td>\n",
       "    </tr>\n",
       "    <tr>\n",
       "      <th>50%</th>\n",
       "      <td>557.500000</td>\n",
       "      <td>7.900000</td>\n",
       "      <td>0.520000</td>\n",
       "      <td>0.260000</td>\n",
       "      <td>2.200000</td>\n",
       "      <td>0.080000</td>\n",
       "      <td>14.000000</td>\n",
       "      <td>38.000000</td>\n",
       "      <td>0.996775</td>\n",
       "      <td>3.310000</td>\n",
       "      <td>0.620000</td>\n",
       "      <td>10.150000</td>\n",
       "      <td>6.000000</td>\n",
       "    </tr>\n",
       "    <tr>\n",
       "      <th>75%</th>\n",
       "      <td>839.750000</td>\n",
       "      <td>9.200000</td>\n",
       "      <td>0.640000</td>\n",
       "      <td>0.430000</td>\n",
       "      <td>2.600000</td>\n",
       "      <td>0.091000</td>\n",
       "      <td>22.000000</td>\n",
       "      <td>61.000000</td>\n",
       "      <td>0.997900</td>\n",
       "      <td>3.410000</td>\n",
       "      <td>0.730000</td>\n",
       "      <td>11.100000</td>\n",
       "      <td>6.000000</td>\n",
       "    </tr>\n",
       "    <tr>\n",
       "      <th>max</th>\n",
       "      <td>1118.000000</td>\n",
       "      <td>15.900000</td>\n",
       "      <td>1.580000</td>\n",
       "      <td>1.000000</td>\n",
       "      <td>15.400000</td>\n",
       "      <td>0.611000</td>\n",
       "      <td>68.000000</td>\n",
       "      <td>289.000000</td>\n",
       "      <td>1.003690</td>\n",
       "      <td>4.010000</td>\n",
       "      <td>2.000000</td>\n",
       "      <td>14.900000</td>\n",
       "      <td>8.000000</td>\n",
       "    </tr>\n",
       "  </tbody>\n",
       "</table>\n",
       "</div>"
      ],
      "text/plain": [
       "                Id  fixed acidity  volatile acidity  citric acid  \\\n",
       "count  1114.000000    1104.000000       1114.000000  1114.000000   \n",
       "mean    558.662478       8.327446          0.531548     0.270081   \n",
       "std     323.780089       1.749430          0.180077     0.194668   \n",
       "min       0.000000       4.600000          0.120000     0.000000   \n",
       "25%     278.250000       7.100000          0.400000     0.092500   \n",
       "50%     557.500000       7.900000          0.520000     0.260000   \n",
       "75%     839.750000       9.200000          0.640000     0.430000   \n",
       "max    1118.000000      15.900000          1.580000     1.000000   \n",
       "\n",
       "       residual sugar    chlorides  free sulfur dioxide  total sulfur dioxide  \\\n",
       "count     1114.000000  1104.000000          1114.000000           1104.000000   \n",
       "mean         2.535592     0.087760            15.894524             46.425725   \n",
       "std          1.281758     0.046592            10.336667             33.139474   \n",
       "min          0.900000     0.012000             1.000000              6.000000   \n",
       "25%          1.900000     0.070000             7.000000             22.000000   \n",
       "50%          2.200000     0.080000            14.000000             38.000000   \n",
       "75%          2.600000     0.091000            22.000000             61.000000   \n",
       "max         15.400000     0.611000            68.000000            289.000000   \n",
       "\n",
       "           density           pH    sulphates      alcohol      quality  \n",
       "count  1114.000000  1114.000000  1114.000000  1114.000000  1114.000000  \n",
       "mean      0.996778     3.312648     0.657451    10.420272     5.636445  \n",
       "std       0.001901     0.156329     0.166508     1.072694     0.807512  \n",
       "min       0.990070     2.740000     0.330000     8.400000     3.000000  \n",
       "25%       0.995683     3.210000     0.550000     9.500000     5.000000  \n",
       "50%       0.996775     3.310000     0.620000    10.150000     6.000000  \n",
       "75%       0.997900     3.410000     0.730000    11.100000     6.000000  \n",
       "max       1.003690     4.010000     2.000000    14.900000     8.000000  "
      ]
     },
     "execution_count": 16,
     "metadata": {},
     "output_type": "execute_result"
    }
   ],
   "source": [
    "#preprocessing\n",
    "df = df.drop(df[df.quality > 10].index) #get rid of erroneous values (quality score of 60)\n",
    "df.describe()                           #check that it worked"
   ]
  },
  {
   "cell_type": "code",
   "execution_count": 17,
   "metadata": {},
   "outputs": [
    {
     "data": {
      "text/plain": [
       "Id                      0\n",
       "fixed acidity           0\n",
       "volatile acidity        0\n",
       "citric acid             0\n",
       "residual sugar          0\n",
       "chlorides               0\n",
       "free sulfur dioxide     0\n",
       "total sulfur dioxide    0\n",
       "density                 0\n",
       "pH                      0\n",
       "sulphates               0\n",
       "alcohol                 0\n",
       "quality                 0\n",
       "dtype: int64"
      ]
     },
     "execution_count": 17,
     "metadata": {},
     "output_type": "execute_result"
    }
   ],
   "source": [
    "df = df.fillna(df.mean()) #fill null values with column mean\n",
    "df.isnull().sum()         #check that there are no more null values"
   ]
  },
  {
   "cell_type": "markdown",
   "metadata": {},
   "source": [
    "d) Choose one variable that you think might have the biggest effects on the quality of wine. Fit a single linear regression model to that variable using Statsmodel. Plot a scatter plot of the dependent variable over the independent variable and also plot the fitted line on the same plot to see how well your model fits. Also add the R<sup>2</sup> score as the title of the plot."
   ]
  },
  {
   "cell_type": "code",
   "execution_count": 19,
   "metadata": {},
   "outputs": [],
   "source": [
    "### YOUR CODE for d) GOES HERE\n",
    "import statsmodels.api as sm\n",
    "from matplotlib import pyplot as plt\n",
    "\n",
    "X = df['volatile acidity']\n",
    "y = df['quality']\n",
    "model_acidity = sm.OLS(y,X).fit()\n",
    "#df.plot.scatter('volatile acidity','quality')"
   ]
  },
  {
   "cell_type": "code",
   "execution_count": 21,
   "metadata": {},
   "outputs": [],
   "source": [
    "#EXTRA (For second test)\n",
    "X = df['sulphates']\n",
    "y = df['quality']\n",
    "model_sulphates = sm.OLS(y,X).fit()\n",
    "#df.plot.scatter('sulphates','quality')"
   ]
  },
  {
   "cell_type": "code",
   "execution_count": 22,
   "metadata": {},
   "outputs": [],
   "source": [
    "#EXTRA (For third test)\n",
    "X = df['alcohol']\n",
    "y = df['quality']\n",
    "model_alcohol = sm.OLS(y,X).fit()\n",
    "#df.plot.scatter('alcohol','quality')"
   ]
  },
  {
   "cell_type": "markdown",
   "metadata": {},
   "source": [
    "e) Make predictions on the testing set using your model created in d), create a submission and submit it to kaggle. "
   ]
  },
  {
   "cell_type": "code",
   "execution_count": 23,
   "metadata": {},
   "outputs": [
    {
     "data": {
      "text/html": [
       "<table class=\"simpletable\">\n",
       "<caption>OLS Regression Results</caption>\n",
       "<tr>\n",
       "  <th>Dep. Variable:</th>         <td>quality</td>     <th>  R-squared:         </th> <td>   0.846</td>\n",
       "</tr>\n",
       "<tr>\n",
       "  <th>Model:</th>                   <td>OLS</td>       <th>  Adj. R-squared:    </th> <td>   0.846</td>\n",
       "</tr>\n",
       "<tr>\n",
       "  <th>Method:</th>             <td>Least Squares</td>  <th>  F-statistic:       </th> <td>   6118.</td>\n",
       "</tr>\n",
       "<tr>\n",
       "  <th>Date:</th>             <td>Fri, 07 Feb 2020</td> <th>  Prob (F-statistic):</th>  <td>  0.00</td> \n",
       "</tr>\n",
       "<tr>\n",
       "  <th>Time:</th>                 <td>19:09:12</td>     <th>  Log-Likelihood:    </th> <td> -2476.1</td>\n",
       "</tr>\n",
       "<tr>\n",
       "  <th>No. Observations:</th>      <td>  1114</td>      <th>  AIC:               </th> <td>   4954.</td>\n",
       "</tr>\n",
       "<tr>\n",
       "  <th>Df Residuals:</th>          <td>  1113</td>      <th>  BIC:               </th> <td>   4959.</td>\n",
       "</tr>\n",
       "<tr>\n",
       "  <th>Df Model:</th>              <td>     1</td>      <th>                     </th>     <td> </td>   \n",
       "</tr>\n",
       "<tr>\n",
       "  <th>Covariance Type:</th>      <td>nonrobust</td>    <th>                     </th>     <td> </td>   \n",
       "</tr>\n",
       "</table>\n",
       "<table class=\"simpletable\">\n",
       "<tr>\n",
       "          <td></td>            <th>coef</th>     <th>std err</th>      <th>t</th>      <th>P>|t|</th>  <th>[0.025</th>    <th>0.975]</th>  \n",
       "</tr>\n",
       "<tr>\n",
       "  <th>volatile acidity</th> <td>    9.3326</td> <td>    0.119</td> <td>   78.216</td> <td> 0.000</td> <td>    9.098</td> <td>    9.567</td>\n",
       "</tr>\n",
       "</table>\n",
       "<table class=\"simpletable\">\n",
       "<tr>\n",
       "  <th>Omnibus:</th>       <td>77.650</td> <th>  Durbin-Watson:     </th> <td>   1.766</td>\n",
       "</tr>\n",
       "<tr>\n",
       "  <th>Prob(Omnibus):</th> <td> 0.000</td> <th>  Jarque-Bera (JB):  </th> <td> 132.966</td>\n",
       "</tr>\n",
       "<tr>\n",
       "  <th>Skew:</th>          <td>-0.505</td> <th>  Prob(JB):          </th> <td>1.34e-29</td>\n",
       "</tr>\n",
       "<tr>\n",
       "  <th>Kurtosis:</th>      <td> 4.359</td> <th>  Cond. No.          </th> <td>    1.00</td>\n",
       "</tr>\n",
       "</table><br/><br/>Warnings:<br/>[1] Standard Errors assume that the covariance matrix of the errors is correctly specified."
      ],
      "text/plain": [
       "<class 'statsmodels.iolib.summary.Summary'>\n",
       "\"\"\"\n",
       "                            OLS Regression Results                            \n",
       "==============================================================================\n",
       "Dep. Variable:                quality   R-squared:                       0.846\n",
       "Model:                            OLS   Adj. R-squared:                  0.846\n",
       "Method:                 Least Squares   F-statistic:                     6118.\n",
       "Date:                Fri, 07 Feb 2020   Prob (F-statistic):               0.00\n",
       "Time:                        19:09:12   Log-Likelihood:                -2476.1\n",
       "No. Observations:                1114   AIC:                             4954.\n",
       "Df Residuals:                    1113   BIC:                             4959.\n",
       "Df Model:                           1                                         \n",
       "Covariance Type:            nonrobust                                         \n",
       "====================================================================================\n",
       "                       coef    std err          t      P>|t|      [0.025      0.975]\n",
       "------------------------------------------------------------------------------------\n",
       "volatile acidity     9.3326      0.119     78.216      0.000       9.098       9.567\n",
       "==============================================================================\n",
       "Omnibus:                       77.650   Durbin-Watson:                   1.766\n",
       "Prob(Omnibus):                  0.000   Jarque-Bera (JB):              132.966\n",
       "Skew:                          -0.505   Prob(JB):                     1.34e-29\n",
       "Kurtosis:                       4.359   Cond. No.                         1.00\n",
       "==============================================================================\n",
       "\n",
       "Warnings:\n",
       "[1] Standard Errors assume that the covariance matrix of the errors is correctly specified.\n",
       "\"\"\""
      ]
     },
     "execution_count": 23,
     "metadata": {},
     "output_type": "execute_result"
    }
   ],
   "source": [
    "### YOUR CODE for e) GOES HERE\n",
    "#Read in test data\n",
    "filepath = '/Users/gracegupta/Downloads/test.csv'\n",
    "test = pd.read_csv(filepath)\n",
    "#test.head()\n",
    "X = test['volatile acidity']\n",
    "predictions = model_acidity.predict(X)\n",
    "#predictions.head()\n",
    "\n",
    "sample_submission = pd.read_csv('/Users/gracegupta/Downloads/sample_submission.csv')\n",
    "sample_submission.loc[:, 'Predicted'] = predictions\n",
    "sample_submission.to_csv('gracegupta_submission.csv', header=True, index=False)\n",
    "sample_submission.head()\n",
    "model_acidity.summary()"
   ]
  },
  {
   "cell_type": "markdown",
   "metadata": {},
   "source": [
    "### Report the score of your first submission on Kaggle here\n",
    "39.70275"
   ]
  },
  {
   "cell_type": "markdown",
   "metadata": {},
   "source": [
    "f) Try to fit the regression model using a different variable. Create another submission and submit it to kaggle. Discuss why that variable was better, worse, or roughly the same as the previous variable that you fit."
   ]
  },
  {
   "cell_type": "code",
   "execution_count": 24,
   "metadata": {
    "scrolled": true
   },
   "outputs": [
    {
     "data": {
      "text/html": [
       "<table class=\"simpletable\">\n",
       "<caption>OLS Regression Results</caption>\n",
       "<tr>\n",
       "  <th>Dep. Variable:</th>         <td>quality</td>     <th>  R-squared:         </th> <td>   0.937</td> \n",
       "</tr>\n",
       "<tr>\n",
       "  <th>Model:</th>                   <td>OLS</td>       <th>  Adj. R-squared:    </th> <td>   0.937</td> \n",
       "</tr>\n",
       "<tr>\n",
       "  <th>Method:</th>             <td>Least Squares</td>  <th>  F-statistic:       </th> <td>1.667e+04</td>\n",
       "</tr>\n",
       "<tr>\n",
       "  <th>Date:</th>             <td>Fri, 07 Feb 2020</td> <th>  Prob (F-statistic):</th>  <td>  0.00</td>  \n",
       "</tr>\n",
       "<tr>\n",
       "  <th>Time:</th>                 <td>19:09:31</td>     <th>  Log-Likelihood:    </th> <td> -1974.9</td> \n",
       "</tr>\n",
       "<tr>\n",
       "  <th>No. Observations:</th>      <td>  1114</td>      <th>  AIC:               </th> <td>   3952.</td> \n",
       "</tr>\n",
       "<tr>\n",
       "  <th>Df Residuals:</th>          <td>  1113</td>      <th>  BIC:               </th> <td>   3957.</td> \n",
       "</tr>\n",
       "<tr>\n",
       "  <th>Df Model:</th>              <td>     1</td>      <th>                     </th>     <td> </td>    \n",
       "</tr>\n",
       "<tr>\n",
       "  <th>Covariance Type:</th>      <td>nonrobust</td>    <th>                     </th>     <td> </td>    \n",
       "</tr>\n",
       "</table>\n",
       "<table class=\"simpletable\">\n",
       "<tr>\n",
       "      <td></td>         <th>coef</th>     <th>std err</th>      <th>t</th>      <th>P>|t|</th>  <th>[0.025</th>    <th>0.975]</th>  \n",
       "</tr>\n",
       "<tr>\n",
       "  <th>sulphates</th> <td>    8.1288</td> <td>    0.063</td> <td>  129.102</td> <td> 0.000</td> <td>    8.005</td> <td>    8.252</td>\n",
       "</tr>\n",
       "</table>\n",
       "<table class=\"simpletable\">\n",
       "<tr>\n",
       "  <th>Omnibus:</th>       <td>648.194</td> <th>  Durbin-Watson:     </th> <td>   1.863</td>\n",
       "</tr>\n",
       "<tr>\n",
       "  <th>Prob(Omnibus):</th> <td> 0.000</td>  <th>  Jarque-Bera (JB):  </th> <td>8447.698</td>\n",
       "</tr>\n",
       "<tr>\n",
       "  <th>Skew:</th>          <td>-2.429</td>  <th>  Prob(JB):          </th> <td>    0.00</td>\n",
       "</tr>\n",
       "<tr>\n",
       "  <th>Kurtosis:</th>      <td>15.586</td>  <th>  Cond. No.          </th> <td>    1.00</td>\n",
       "</tr>\n",
       "</table><br/><br/>Warnings:<br/>[1] Standard Errors assume that the covariance matrix of the errors is correctly specified."
      ],
      "text/plain": [
       "<class 'statsmodels.iolib.summary.Summary'>\n",
       "\"\"\"\n",
       "                            OLS Regression Results                            \n",
       "==============================================================================\n",
       "Dep. Variable:                quality   R-squared:                       0.937\n",
       "Model:                            OLS   Adj. R-squared:                  0.937\n",
       "Method:                 Least Squares   F-statistic:                 1.667e+04\n",
       "Date:                Fri, 07 Feb 2020   Prob (F-statistic):               0.00\n",
       "Time:                        19:09:31   Log-Likelihood:                -1974.9\n",
       "No. Observations:                1114   AIC:                             3952.\n",
       "Df Residuals:                    1113   BIC:                             3957.\n",
       "Df Model:                           1                                         \n",
       "Covariance Type:            nonrobust                                         \n",
       "==============================================================================\n",
       "                 coef    std err          t      P>|t|      [0.025      0.975]\n",
       "------------------------------------------------------------------------------\n",
       "sulphates      8.1288      0.063    129.102      0.000       8.005       8.252\n",
       "==============================================================================\n",
       "Omnibus:                      648.194   Durbin-Watson:                   1.863\n",
       "Prob(Omnibus):                  0.000   Jarque-Bera (JB):             8447.698\n",
       "Skew:                          -2.429   Prob(JB):                         0.00\n",
       "Kurtosis:                      15.586   Cond. No.                         1.00\n",
       "==============================================================================\n",
       "\n",
       "Warnings:\n",
       "[1] Standard Errors assume that the covariance matrix of the errors is correctly specified.\n",
       "\"\"\""
      ]
     },
     "execution_count": 24,
     "metadata": {},
     "output_type": "execute_result"
    }
   ],
   "source": [
    "### YOUR CODE for f) GOES HERE\n",
    "X = test['sulphates']\n",
    "predictions = model_sulphates.predict(X)\n",
    "predictions.head()\n",
    "\n",
    "sample_submission2 = pd.read_csv('/Users/gracegupta/Downloads/sample_submission.csv')\n",
    "sample_submission2.loc[:, 'Predicted'] = predictions\n",
    "sample_submission2.to_csv('gracegupta_submission2.csv', header=True, index=False)\n",
    "sample_submission2.head()\n",
    "model_sulphates.summary()"
   ]
  },
  {
   "cell_type": "code",
   "execution_count": 25,
   "metadata": {},
   "outputs": [
    {
     "data": {
      "text/html": [
       "<table class=\"simpletable\">\n",
       "<caption>OLS Regression Results</caption>\n",
       "<tr>\n",
       "  <th>Dep. Variable:</th>         <td>quality</td>     <th>  R-squared:         </th> <td>   0.984</td> \n",
       "</tr>\n",
       "<tr>\n",
       "  <th>Model:</th>                   <td>OLS</td>       <th>  Adj. R-squared:    </th> <td>   0.984</td> \n",
       "</tr>\n",
       "<tr>\n",
       "  <th>Method:</th>             <td>Least Squares</td>  <th>  F-statistic:       </th> <td>6.684e+04</td>\n",
       "</tr>\n",
       "<tr>\n",
       "  <th>Date:</th>             <td>Fri, 07 Feb 2020</td> <th>  Prob (F-statistic):</th>  <td>  0.00</td>  \n",
       "</tr>\n",
       "<tr>\n",
       "  <th>Time:</th>                 <td>19:09:37</td>     <th>  Log-Likelihood:    </th> <td> -1228.2</td> \n",
       "</tr>\n",
       "<tr>\n",
       "  <th>No. Observations:</th>      <td>  1114</td>      <th>  AIC:               </th> <td>   2458.</td> \n",
       "</tr>\n",
       "<tr>\n",
       "  <th>Df Residuals:</th>          <td>  1113</td>      <th>  BIC:               </th> <td>   2463.</td> \n",
       "</tr>\n",
       "<tr>\n",
       "  <th>Df Model:</th>              <td>     1</td>      <th>                     </th>     <td> </td>    \n",
       "</tr>\n",
       "<tr>\n",
       "  <th>Covariance Type:</th>      <td>nonrobust</td>    <th>                     </th>     <td> </td>    \n",
       "</tr>\n",
       "</table>\n",
       "<table class=\"simpletable\">\n",
       "<tr>\n",
       "     <td></td>        <th>coef</th>     <th>std err</th>      <th>t</th>      <th>P>|t|</th>  <th>[0.025</th>    <th>0.975]</th>  \n",
       "</tr>\n",
       "<tr>\n",
       "  <th>alcohol</th> <td>    0.5391</td> <td>    0.002</td> <td>  258.525</td> <td> 0.000</td> <td>    0.535</td> <td>    0.543</td>\n",
       "</tr>\n",
       "</table>\n",
       "<table class=\"simpletable\">\n",
       "<tr>\n",
       "  <th>Omnibus:</th>       <td>52.591</td> <th>  Durbin-Watson:     </th> <td>   1.998</td>\n",
       "</tr>\n",
       "<tr>\n",
       "  <th>Prob(Omnibus):</th> <td> 0.000</td> <th>  Jarque-Bera (JB):  </th> <td>  97.490</td>\n",
       "</tr>\n",
       "<tr>\n",
       "  <th>Skew:</th>          <td>-0.337</td> <th>  Prob(JB):          </th> <td>6.77e-22</td>\n",
       "</tr>\n",
       "<tr>\n",
       "  <th>Kurtosis:</th>      <td> 4.283</td> <th>  Cond. No.          </th> <td>    1.00</td>\n",
       "</tr>\n",
       "</table><br/><br/>Warnings:<br/>[1] Standard Errors assume that the covariance matrix of the errors is correctly specified."
      ],
      "text/plain": [
       "<class 'statsmodels.iolib.summary.Summary'>\n",
       "\"\"\"\n",
       "                            OLS Regression Results                            \n",
       "==============================================================================\n",
       "Dep. Variable:                quality   R-squared:                       0.984\n",
       "Model:                            OLS   Adj. R-squared:                  0.984\n",
       "Method:                 Least Squares   F-statistic:                 6.684e+04\n",
       "Date:                Fri, 07 Feb 2020   Prob (F-statistic):               0.00\n",
       "Time:                        19:09:37   Log-Likelihood:                -1228.2\n",
       "No. Observations:                1114   AIC:                             2458.\n",
       "Df Residuals:                    1113   BIC:                             2463.\n",
       "Df Model:                           1                                         \n",
       "Covariance Type:            nonrobust                                         \n",
       "==============================================================================\n",
       "                 coef    std err          t      P>|t|      [0.025      0.975]\n",
       "------------------------------------------------------------------------------\n",
       "alcohol        0.5391      0.002    258.525      0.000       0.535       0.543\n",
       "==============================================================================\n",
       "Omnibus:                       52.591   Durbin-Watson:                   1.998\n",
       "Prob(Omnibus):                  0.000   Jarque-Bera (JB):               97.490\n",
       "Skew:                          -0.337   Prob(JB):                     6.77e-22\n",
       "Kurtosis:                       4.283   Cond. No.                         1.00\n",
       "==============================================================================\n",
       "\n",
       "Warnings:\n",
       "[1] Standard Errors assume that the covariance matrix of the errors is correctly specified.\n",
       "\"\"\""
      ]
     },
     "execution_count": 25,
     "metadata": {},
     "output_type": "execute_result"
    }
   ],
   "source": [
    "#EXTRA THIRD TEST\n",
    "X = test['alcohol']\n",
    "predictions = model_alcohol.predict(X)\n",
    "\n",
    "sample_submission3 = pd.read_csv('/Users/gracegupta/Downloads/sample_submission.csv')\n",
    "sample_submission3.loc[:, 'Predicted'] = predictions\n",
    "sample_submission3.to_csv('gracegupta_submission3.csv', header=True, index=False)\n",
    "sample_submission3.head()\n",
    "\n",
    "model_alcohol.summary()\n",
    "#predictions.head()"
   ]
  },
  {
   "cell_type": "markdown",
   "metadata": {},
   "source": [
    "### Report the score of your second submission on Kaggle here\n",
    "36.16614 (sulphates)"
   ]
  },
  {
   "cell_type": "markdown",
   "metadata": {},
   "source": [
    "### Discussion Goes Here\n",
    "\n",
    "Using sulphates data to train the model performed slightly better than using volatile acidity data. The R2 value increased to 0.937 from 0.846. The variance in the sulphates and volatile acidity data for both testing and training sets is roughly the same (approximately 0.03). A smaller R2 value for the sulphates data may be caused by a smaller RSS value relative to TSS from less random error."
   ]
  },
  {
   "cell_type": "code",
   "execution_count": 27,
   "metadata": {},
   "outputs": [
    {
     "data": {
      "text/plain": [
       "0.027725031252973983"
      ]
     },
     "execution_count": 27,
     "metadata": {},
     "output_type": "execute_result"
    }
   ],
   "source": [
    "df.loc[:,\"sulphates\"].var()"
   ]
  },
  {
   "cell_type": "code",
   "execution_count": 29,
   "metadata": {},
   "outputs": [
    {
     "data": {
      "text/plain": [
       "0.031322055932498254"
      ]
     },
     "execution_count": 29,
     "metadata": {},
     "output_type": "execute_result"
    }
   ],
   "source": [
    "test[\"sulphates\"].var()"
   ]
  },
  {
   "cell_type": "code",
   "execution_count": 28,
   "metadata": {},
   "outputs": [
    {
     "data": {
      "text/plain": [
       "0.03242781121509948"
      ]
     },
     "execution_count": 28,
     "metadata": {},
     "output_type": "execute_result"
    }
   ],
   "source": [
    "df.loc[:,\"volatile acidity\"].var()"
   ]
  },
  {
   "cell_type": "code",
   "execution_count": 30,
   "metadata": {},
   "outputs": [
    {
     "data": {
      "text/plain": [
       "0.03142605949895616"
      ]
     },
     "execution_count": 30,
     "metadata": {},
     "output_type": "execute_result"
    }
   ],
   "source": [
    "test[\"volatile acidity\"].var()"
   ]
  },
  {
   "cell_type": "code",
   "execution_count": null,
   "metadata": {},
   "outputs": [],
   "source": []
  }
 ],
 "metadata": {
  "kernelspec": {
   "display_name": "Python 3",
   "language": "python",
   "name": "python3"
  },
  "language_info": {
   "codemirror_mode": {
    "name": "ipython",
    "version": 3
   },
   "file_extension": ".py",
   "mimetype": "text/x-python",
   "name": "python",
   "nbconvert_exporter": "python",
   "pygments_lexer": "ipython3",
   "version": "3.6.8"
  }
 },
 "nbformat": 4,
 "nbformat_minor": 2
}
